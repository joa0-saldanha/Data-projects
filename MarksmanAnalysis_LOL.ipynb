{
  "nbformat": 4,
  "nbformat_minor": 0,
  "metadata": {
    "colab": {
      "provenance": [],
      "authorship_tag": "ABX9TyNzGaT8Uai0OxbPvVMkUZbT"
    },
    "kernelspec": {
      "name": "python3",
      "display_name": "Python 3"
    },
    "language_info": {
      "name": "python"
    }
  },
  "cells": [
    {
      "cell_type": "markdown",
      "source": [
        "# **Data analysis using data from League of Legends champions**\n",
        "\n",
        "[League of Legends](https://www.leagueoflegends.com/) is a multiplayer online battle arena video game developed and published by Riot Games. A game in which the player controls a character (\"champion\") with a set of unique abilities from an isometric perspective.\n",
        "\n",
        "We will analyze some statistics of the champions of the **marksman** category using PySpark, which is an Apache Spark framework API developed for the Python programming language, and a notebook in Google Colab, wich is free cloud service created by google that allows anyone to write and run arbitrary Python code via the browser and is especially suited for machine learning, data analysis and education. \n",
        "\n",
        "All data used were extracted from the [Data Dragon](https://developer.riotgames.com/docs/lol) web API, a public API by Riot Games.    \n",
        "<br>\n",
        "<br>\n",
        "**Starting from the beginning**\n",
        "\n",
        "At first we will need to install the three libraries that we will be using at this analysis, wich are: [Requests](https://requests.readthedocs.io/en/latest/), [PySpark](https://spark.apache.org/docs/latest/api/python/index.html) and [pandas](https://pandas.pydata.org/docs/).\n",
        "\n",
        "(as i already have it installed, it will just verify that the requirements are already satisfieds)\n",
        "\n",
        "*Requests* is an HTTP library for the Python programming language. The project's goal is to make HTTP requests simpler and easier to use;<br>\n",
        "*PySpark* is an interface for Apache Spark in Python. It not only allows you to write Spark applications using Python APIs, but also provides the PySpark shell for interactively analyzing your data in a distributed environment;<br>\n",
        "*pandas* is a software library created for the Python language for data manipulation and analysis. In particular, it offers structures and operations for manipulating numeric tables and time series.\n",
        "\n",
        "\n",
        "\n"
      ],
      "metadata": {
        "id": "u2qbEqZ6-aiR"
      }
    },
    {
      "cell_type": "code",
      "source": [
        "!pip install requests\n",
        "!pip install pyspark\n",
        "!pip install pandas"
      ],
      "metadata": {
        "colab": {
          "base_uri": "https://localhost:8080/"
        },
        "id": "K5-RPDc0-bKH",
        "outputId": "0b8f2289-3ba2-4b5e-c666-4d0c29f9bddd"
      },
      "execution_count": 24,
      "outputs": [
        {
          "output_type": "stream",
          "name": "stdout",
          "text": [
            "Looking in indexes: https://pypi.org/simple, https://us-python.pkg.dev/colab-wheels/public/simple/\n",
            "Requirement already satisfied: requests in /usr/local/lib/python3.8/dist-packages (2.23.0)\n",
            "Requirement already satisfied: certifi>=2017.4.17 in /usr/local/lib/python3.8/dist-packages (from requests) (2022.12.7)\n",
            "Requirement already satisfied: chardet<4,>=3.0.2 in /usr/local/lib/python3.8/dist-packages (from requests) (3.0.4)\n",
            "Requirement already satisfied: urllib3!=1.25.0,!=1.25.1,<1.26,>=1.21.1 in /usr/local/lib/python3.8/dist-packages (from requests) (1.24.3)\n",
            "Requirement already satisfied: idna<3,>=2.5 in /usr/local/lib/python3.8/dist-packages (from requests) (2.10)\n",
            "Looking in indexes: https://pypi.org/simple, https://us-python.pkg.dev/colab-wheels/public/simple/\n",
            "Requirement already satisfied: pyspark in /usr/local/lib/python3.8/dist-packages (3.3.1)\n",
            "Requirement already satisfied: py4j==0.10.9.5 in /usr/local/lib/python3.8/dist-packages (from pyspark) (0.10.9.5)\n",
            "Looking in indexes: https://pypi.org/simple, https://us-python.pkg.dev/colab-wheels/public/simple/\n",
            "Requirement already satisfied: pandas in /usr/local/lib/python3.8/dist-packages (1.3.5)\n",
            "Requirement already satisfied: python-dateutil>=2.7.3 in /usr/local/lib/python3.8/dist-packages (from pandas) (2.8.2)\n",
            "Requirement already satisfied: pytz>=2017.3 in /usr/local/lib/python3.8/dist-packages (from pandas) (2022.6)\n",
            "Requirement already satisfied: numpy>=1.17.3 in /usr/local/lib/python3.8/dist-packages (from pandas) (1.21.6)\n",
            "Requirement already satisfied: six>=1.5 in /usr/local/lib/python3.8/dist-packages (from python-dateutil>=2.7.3->pandas) (1.15.0)\n"
          ]
        }
      ]
    },
    {
      "cell_type": "markdown",
      "source": [
        "# **Importing**\n",
        "\n",
        "Now, with all the libraries properly installed, we will make the necessary imports "
      ],
      "metadata": {
        "id": "MbVJ-LWf-j0z"
      }
    },
    {
      "cell_type": "code",
      "source": [
        "import requests\n",
        "import pandas as pd\n",
        "from pyspark.sql import SparkSession\n",
        "from pyspark.sql import functions as F"
      ],
      "metadata": {
        "id": "ABRooK_S-khP"
      },
      "execution_count": 25,
      "outputs": []
    },
    {
      "cell_type": "markdown",
      "source": [
        "With the SparkSession already imported, we will instantiate the SparkSession class through a series of chained methods, such as **appName** and **getOrCreate**."
      ],
      "metadata": {
        "id": "buE5ZLZE-z0P"
      }
    },
    {
      "cell_type": "code",
      "source": [
        "spark = (SparkSession.builder\n",
        "         .appName(\"League of Legends Marksman Champions Data Analysis\")\n",
        "         .getOrCreate()\n",
        "         )\n"
      ],
      "metadata": {
        "id": "G6J40tv9-0a-"
      },
      "execution_count": 26,
      "outputs": []
    },
    {
      "cell_type": "markdown",
      "source": [
        "# **Extracting the champions data**\n",
        "\n",
        "For extracting the data from League of Legends champions is done via an HTTP request to a [Data Dragon](https://developer.riotgames.com/docs/lol) API endpoint, a public Riot Games API that centralizes game data, such as champions, items, spells and ETC.\n",
        "\n",
        "As an answer from the request, we get a JSON file at this sample format:\n",
        "\n",
        "<pre>{\n",
        "  \"type\":\"champion\",\n",
        "  \"format\":\"standAloneComplex\",\n",
        "  \"version\":\"12.23.1\",\n",
        "  \"data\":{\n",
        "    \"Aatrox\": {},\n",
        "    \"Ahri\": {],\n",
        "    \"Akali\": {],\n",
        "    \"Akshan\": {],\n",
        "    \"Alistar\": {],\n",
        "    ...,\n",
        "    }\n",
        "}"
      ],
      "metadata": {
        "id": "fj7ml0u1-3eh"
      }
    },
    {
      "cell_type": "code",
      "source": [
        "r=requests.get(\n",
        "\"http://ddragon.leagueoflegends.com/cdn/12.23.1/data/en_US/champion.json\")\n",
        "\n",
        "champions=r.json().get(\"data\")"
      ],
      "metadata": {
        "id": "h2N3FknH-5vf"
      },
      "execution_count": 27,
      "outputs": []
    },
    {
      "cell_type": "markdown",
      "source": [
        "**Structure example**\n",
        "\n",
        "Now that we have all the data from the requests inside the key **\"data\"**\n",
        "we will get all the champions name data (keys), and get one champion for have an example of the full structure."
      ],
      "metadata": {
        "id": "F5BN8WpO-8wo"
      }
    },
    {
      "cell_type": "code",
      "source": [
        "champions.keys()\n",
        "champions.get(\"Draven\")"
      ],
      "metadata": {
        "colab": {
          "base_uri": "https://localhost:8080/"
        },
        "id": "gj0hn5e2-9Gv",
        "outputId": "d3030abf-e525-40d0-d4cd-74714c0806f6"
      },
      "execution_count": 28,
      "outputs": [
        {
          "output_type": "execute_result",
          "data": {
            "text/plain": [
              "{'version': '12.23.1',\n",
              " 'id': 'Draven',\n",
              " 'key': '119',\n",
              " 'name': 'Draven',\n",
              " 'title': 'the Glorious Executioner',\n",
              " 'blurb': 'In Noxus, warriors known as Reckoners face one another in arenas where blood is spilled and strength tested—but none has ever been as celebrated as Draven. A former soldier, he found that the crowds uniquely appreciated his flair for the dramatic, and...',\n",
              " 'info': {'attack': 9, 'defense': 3, 'magic': 1, 'difficulty': 8},\n",
              " 'image': {'full': 'Draven.png',\n",
              "  'sprite': 'champion0.png',\n",
              "  'group': 'champion',\n",
              "  'x': 192,\n",
              "  'y': 96,\n",
              "  'w': 48,\n",
              "  'h': 48},\n",
              " 'tags': ['Marksman'],\n",
              " 'partype': 'Mana',\n",
              " 'stats': {'hp': 675,\n",
              "  'hpperlevel': 104,\n",
              "  'mp': 361,\n",
              "  'mpperlevel': 39,\n",
              "  'movespeed': 330,\n",
              "  'armor': 29,\n",
              "  'armorperlevel': 4.5,\n",
              "  'spellblock': 30,\n",
              "  'spellblockperlevel': 1.3,\n",
              "  'attackrange': 550,\n",
              "  'hpregen': 3.75,\n",
              "  'hpregenperlevel': 0.7,\n",
              "  'mpregen': 8.05,\n",
              "  'mpregenperlevel': 0.65,\n",
              "  'crit': 0,\n",
              "  'critperlevel': 0,\n",
              "  'attackdamage': 62,\n",
              "  'attackdamageperlevel': 3.6,\n",
              "  'attackspeedperlevel': 2.7,\n",
              "  'attackspeed': 0.679}}"
            ]
          },
          "metadata": {},
          "execution_count": 28
        }
      ]
    },
    {
      "cell_type": "markdown",
      "source": [
        "# **TRANSFORMING AND CLEANING THE DATA**\n",
        "\n",
        "Before starting the analysis, we have to clean the data to keep only what will be useful for our purposes. For that, we will keep only the necessary columns."
      ],
      "metadata": {
        "id": "1IapF-8V-_17"
      }
    },
    {
      "cell_type": "code",
      "source": [
        "champions=[{'name': value['name'], 'title': value['title'], 'tags': value['tags'], **value['info'], **value['stats']} for key, value in champions.items()]"
      ],
      "metadata": {
        "id": "aYPb7G65_A-v"
      },
      "execution_count": 29,
      "outputs": []
    },
    {
      "cell_type": "markdown",
      "source": [
        "Now, as our goal is to analyze only the champions of the marksman category, we will create the dataframe using the **pandas library** that we previously imported and filter the tags, where the result will bring us only the champions that actually appear in that category."
      ],
      "metadata": {
        "id": "1AyckbNh_GNR"
      }
    },
    {
      "cell_type": "code",
      "source": [
        "dff = pd.DataFrame(champions)\n",
        "dff = dff[dff['tags'].isin([['Marksman']])]\n",
        "dff"
      ],
      "metadata": {
        "colab": {
          "base_uri": "https://localhost:8080/",
          "height": 874
        },
        "id": "Cyc4m0tN_GnR",
        "outputId": "d73a4b1a-5d94-4ddd-9c47-1d146e6d4b9b"
      },
      "execution_count": 30,
      "outputs": [
        {
          "output_type": "execute_result",
          "data": {
            "text/plain": [
              "             name                       title        tags  attack  defense  \\\n",
              "8        Aphelios  the Weapon of the Faithful  [Marksman]       6        2   \n",
              "17        Caitlyn     the Sheriff of Piltover  [Marksman]       8        2   \n",
              "21          Corki       the Daring Bombardier  [Marksman]       8        3   \n",
              "24         Draven    the Glorious Executioner  [Marksman]       9        3   \n",
              "38         Graves                  the Outlaw  [Marksman]       8        5   \n",
              "50           Jinx            the Loose Cannon  [Marksman]       9        2   \n",
              "51         Kai'Sa        Daughter of the Void  [Marksman]       8        5   \n",
              "52        Kalista      the Spear of Vengeance  [Marksman]       8        2   \n",
              "61        Kindred         The Eternal Hunters  [Marksman]       8        2   \n",
              "70         Lucian                the Purifier  [Marksman]       8        5   \n",
              "77   Miss Fortune           the Bounty Hunter  [Marksman]       8        2   \n",
              "107        Samira             the Desert Rose  [Marksman]       8        5   \n",
              "117         Sivir         the Battle Mistress  [Marksman]       9        3   \n",
              "148         Xayah                   the Rebel  [Marksman]      10        6   \n",
              "157          Zeri           The Spark of Zaun  [Marksman]       8        5   \n",
              "\n",
              "     magic  difficulty   hp  hpperlevel      mp  ...  hpregen  \\\n",
              "8        1          10  580         102  348.00  ...     3.25   \n",
              "17       2           6  580         107  315.00  ...     3.50   \n",
              "21       6           6  588         105  350.00  ...     5.50   \n",
              "24       1           8  675         104  361.00  ...     3.75   \n",
              "38       3           3  625         106  325.00  ...     8.00   \n",
              "50       4           6  630         100  245.00  ...     3.75   \n",
              "51       3           6  670         102  344.88  ...     3.50   \n",
              "52       4           7  574         114  300.00  ...     3.75   \n",
              "61       2           4  610          99  300.00  ...     7.00   \n",
              "70       3           6  641         100  349.00  ...     3.75   \n",
              "77       5           1  640         103  300.00  ...     3.75   \n",
              "107      3           6  600         108  349.00  ...     3.25   \n",
              "117      1           4  600         104  340.00  ...     3.25   \n",
              "148      1           5  660         102  340.00  ...     3.25   \n",
              "157      3           6  630         115  250.00  ...     3.25   \n",
              "\n",
              "     hpregenperlevel  mpregen  mpregenperlevel  crit  critperlevel  \\\n",
              "8               0.55     6.50             0.40     0             0   \n",
              "17              0.55     7.40             0.55     0             0   \n",
              "21              0.55     7.40             0.55     0             0   \n",
              "24              0.70     8.05             0.65     0             0   \n",
              "38              0.70     8.00             0.70     0             0   \n",
              "50              0.50     6.70             1.00     0             0   \n",
              "51              0.55     8.20             0.45     0             0   \n",
              "52              0.55     6.30             0.40     0             0   \n",
              "61              0.55     7.00             0.40     0             0   \n",
              "70              0.65     8.18             0.70     0             0   \n",
              "77              0.65     8.05             0.65     0             0   \n",
              "107             0.55     8.20             0.70     0             0   \n",
              "117             0.55     6.00             0.80     0             0   \n",
              "148             0.75     8.25             0.75     0             0   \n",
              "157             0.70     6.00             0.80     0             0   \n",
              "\n",
              "     attackdamage  attackdamageperlevel  attackspeedperlevel  attackspeed  \n",
              "8              55                   3.0                  2.1        0.640  \n",
              "17             62                   3.8                  4.0        0.681  \n",
              "21             55                   2.8                  2.3        0.638  \n",
              "24             62                   3.6                  2.7        0.679  \n",
              "38             68                   4.0                  2.6        0.475  \n",
              "50             59                   3.4                  1.0        0.625  \n",
              "51             59                   2.0                  1.8        0.644  \n",
              "52             66                   3.5                  4.5        0.694  \n",
              "61             65                   2.5                  3.5        0.625  \n",
              "70             60                   2.9                  3.3        0.638  \n",
              "77             52                   2.4                  3.0        0.656  \n",
              "107            57                   3.3                  3.3        0.658  \n",
              "117            58                   2.8                  2.0        0.625  \n",
              "148            60                   3.5                  3.9        0.625  \n",
              "157            53                   1.5                  2.0        0.658  \n",
              "\n",
              "[15 rows x 27 columns]"
            ],
            "text/html": [
              "\n",
              "  <div id=\"df-0a6b9fba-7740-4886-83b3-adb5814d7844\">\n",
              "    <div class=\"colab-df-container\">\n",
              "      <div>\n",
              "<style scoped>\n",
              "    .dataframe tbody tr th:only-of-type {\n",
              "        vertical-align: middle;\n",
              "    }\n",
              "\n",
              "    .dataframe tbody tr th {\n",
              "        vertical-align: top;\n",
              "    }\n",
              "\n",
              "    .dataframe thead th {\n",
              "        text-align: right;\n",
              "    }\n",
              "</style>\n",
              "<table border=\"1\" class=\"dataframe\">\n",
              "  <thead>\n",
              "    <tr style=\"text-align: right;\">\n",
              "      <th></th>\n",
              "      <th>name</th>\n",
              "      <th>title</th>\n",
              "      <th>tags</th>\n",
              "      <th>attack</th>\n",
              "      <th>defense</th>\n",
              "      <th>magic</th>\n",
              "      <th>difficulty</th>\n",
              "      <th>hp</th>\n",
              "      <th>hpperlevel</th>\n",
              "      <th>mp</th>\n",
              "      <th>...</th>\n",
              "      <th>hpregen</th>\n",
              "      <th>hpregenperlevel</th>\n",
              "      <th>mpregen</th>\n",
              "      <th>mpregenperlevel</th>\n",
              "      <th>crit</th>\n",
              "      <th>critperlevel</th>\n",
              "      <th>attackdamage</th>\n",
              "      <th>attackdamageperlevel</th>\n",
              "      <th>attackspeedperlevel</th>\n",
              "      <th>attackspeed</th>\n",
              "    </tr>\n",
              "  </thead>\n",
              "  <tbody>\n",
              "    <tr>\n",
              "      <th>8</th>\n",
              "      <td>Aphelios</td>\n",
              "      <td>the Weapon of the Faithful</td>\n",
              "      <td>[Marksman]</td>\n",
              "      <td>6</td>\n",
              "      <td>2</td>\n",
              "      <td>1</td>\n",
              "      <td>10</td>\n",
              "      <td>580</td>\n",
              "      <td>102</td>\n",
              "      <td>348.00</td>\n",
              "      <td>...</td>\n",
              "      <td>3.25</td>\n",
              "      <td>0.55</td>\n",
              "      <td>6.50</td>\n",
              "      <td>0.40</td>\n",
              "      <td>0</td>\n",
              "      <td>0</td>\n",
              "      <td>55</td>\n",
              "      <td>3.0</td>\n",
              "      <td>2.1</td>\n",
              "      <td>0.640</td>\n",
              "    </tr>\n",
              "    <tr>\n",
              "      <th>17</th>\n",
              "      <td>Caitlyn</td>\n",
              "      <td>the Sheriff of Piltover</td>\n",
              "      <td>[Marksman]</td>\n",
              "      <td>8</td>\n",
              "      <td>2</td>\n",
              "      <td>2</td>\n",
              "      <td>6</td>\n",
              "      <td>580</td>\n",
              "      <td>107</td>\n",
              "      <td>315.00</td>\n",
              "      <td>...</td>\n",
              "      <td>3.50</td>\n",
              "      <td>0.55</td>\n",
              "      <td>7.40</td>\n",
              "      <td>0.55</td>\n",
              "      <td>0</td>\n",
              "      <td>0</td>\n",
              "      <td>62</td>\n",
              "      <td>3.8</td>\n",
              "      <td>4.0</td>\n",
              "      <td>0.681</td>\n",
              "    </tr>\n",
              "    <tr>\n",
              "      <th>21</th>\n",
              "      <td>Corki</td>\n",
              "      <td>the Daring Bombardier</td>\n",
              "      <td>[Marksman]</td>\n",
              "      <td>8</td>\n",
              "      <td>3</td>\n",
              "      <td>6</td>\n",
              "      <td>6</td>\n",
              "      <td>588</td>\n",
              "      <td>105</td>\n",
              "      <td>350.00</td>\n",
              "      <td>...</td>\n",
              "      <td>5.50</td>\n",
              "      <td>0.55</td>\n",
              "      <td>7.40</td>\n",
              "      <td>0.55</td>\n",
              "      <td>0</td>\n",
              "      <td>0</td>\n",
              "      <td>55</td>\n",
              "      <td>2.8</td>\n",
              "      <td>2.3</td>\n",
              "      <td>0.638</td>\n",
              "    </tr>\n",
              "    <tr>\n",
              "      <th>24</th>\n",
              "      <td>Draven</td>\n",
              "      <td>the Glorious Executioner</td>\n",
              "      <td>[Marksman]</td>\n",
              "      <td>9</td>\n",
              "      <td>3</td>\n",
              "      <td>1</td>\n",
              "      <td>8</td>\n",
              "      <td>675</td>\n",
              "      <td>104</td>\n",
              "      <td>361.00</td>\n",
              "      <td>...</td>\n",
              "      <td>3.75</td>\n",
              "      <td>0.70</td>\n",
              "      <td>8.05</td>\n",
              "      <td>0.65</td>\n",
              "      <td>0</td>\n",
              "      <td>0</td>\n",
              "      <td>62</td>\n",
              "      <td>3.6</td>\n",
              "      <td>2.7</td>\n",
              "      <td>0.679</td>\n",
              "    </tr>\n",
              "    <tr>\n",
              "      <th>38</th>\n",
              "      <td>Graves</td>\n",
              "      <td>the Outlaw</td>\n",
              "      <td>[Marksman]</td>\n",
              "      <td>8</td>\n",
              "      <td>5</td>\n",
              "      <td>3</td>\n",
              "      <td>3</td>\n",
              "      <td>625</td>\n",
              "      <td>106</td>\n",
              "      <td>325.00</td>\n",
              "      <td>...</td>\n",
              "      <td>8.00</td>\n",
              "      <td>0.70</td>\n",
              "      <td>8.00</td>\n",
              "      <td>0.70</td>\n",
              "      <td>0</td>\n",
              "      <td>0</td>\n",
              "      <td>68</td>\n",
              "      <td>4.0</td>\n",
              "      <td>2.6</td>\n",
              "      <td>0.475</td>\n",
              "    </tr>\n",
              "    <tr>\n",
              "      <th>50</th>\n",
              "      <td>Jinx</td>\n",
              "      <td>the Loose Cannon</td>\n",
              "      <td>[Marksman]</td>\n",
              "      <td>9</td>\n",
              "      <td>2</td>\n",
              "      <td>4</td>\n",
              "      <td>6</td>\n",
              "      <td>630</td>\n",
              "      <td>100</td>\n",
              "      <td>245.00</td>\n",
              "      <td>...</td>\n",
              "      <td>3.75</td>\n",
              "      <td>0.50</td>\n",
              "      <td>6.70</td>\n",
              "      <td>1.00</td>\n",
              "      <td>0</td>\n",
              "      <td>0</td>\n",
              "      <td>59</td>\n",
              "      <td>3.4</td>\n",
              "      <td>1.0</td>\n",
              "      <td>0.625</td>\n",
              "    </tr>\n",
              "    <tr>\n",
              "      <th>51</th>\n",
              "      <td>Kai'Sa</td>\n",
              "      <td>Daughter of the Void</td>\n",
              "      <td>[Marksman]</td>\n",
              "      <td>8</td>\n",
              "      <td>5</td>\n",
              "      <td>3</td>\n",
              "      <td>6</td>\n",
              "      <td>670</td>\n",
              "      <td>102</td>\n",
              "      <td>344.88</td>\n",
              "      <td>...</td>\n",
              "      <td>3.50</td>\n",
              "      <td>0.55</td>\n",
              "      <td>8.20</td>\n",
              "      <td>0.45</td>\n",
              "      <td>0</td>\n",
              "      <td>0</td>\n",
              "      <td>59</td>\n",
              "      <td>2.0</td>\n",
              "      <td>1.8</td>\n",
              "      <td>0.644</td>\n",
              "    </tr>\n",
              "    <tr>\n",
              "      <th>52</th>\n",
              "      <td>Kalista</td>\n",
              "      <td>the Spear of Vengeance</td>\n",
              "      <td>[Marksman]</td>\n",
              "      <td>8</td>\n",
              "      <td>2</td>\n",
              "      <td>4</td>\n",
              "      <td>7</td>\n",
              "      <td>574</td>\n",
              "      <td>114</td>\n",
              "      <td>300.00</td>\n",
              "      <td>...</td>\n",
              "      <td>3.75</td>\n",
              "      <td>0.55</td>\n",
              "      <td>6.30</td>\n",
              "      <td>0.40</td>\n",
              "      <td>0</td>\n",
              "      <td>0</td>\n",
              "      <td>66</td>\n",
              "      <td>3.5</td>\n",
              "      <td>4.5</td>\n",
              "      <td>0.694</td>\n",
              "    </tr>\n",
              "    <tr>\n",
              "      <th>61</th>\n",
              "      <td>Kindred</td>\n",
              "      <td>The Eternal Hunters</td>\n",
              "      <td>[Marksman]</td>\n",
              "      <td>8</td>\n",
              "      <td>2</td>\n",
              "      <td>2</td>\n",
              "      <td>4</td>\n",
              "      <td>610</td>\n",
              "      <td>99</td>\n",
              "      <td>300.00</td>\n",
              "      <td>...</td>\n",
              "      <td>7.00</td>\n",
              "      <td>0.55</td>\n",
              "      <td>7.00</td>\n",
              "      <td>0.40</td>\n",
              "      <td>0</td>\n",
              "      <td>0</td>\n",
              "      <td>65</td>\n",
              "      <td>2.5</td>\n",
              "      <td>3.5</td>\n",
              "      <td>0.625</td>\n",
              "    </tr>\n",
              "    <tr>\n",
              "      <th>70</th>\n",
              "      <td>Lucian</td>\n",
              "      <td>the Purifier</td>\n",
              "      <td>[Marksman]</td>\n",
              "      <td>8</td>\n",
              "      <td>5</td>\n",
              "      <td>3</td>\n",
              "      <td>6</td>\n",
              "      <td>641</td>\n",
              "      <td>100</td>\n",
              "      <td>349.00</td>\n",
              "      <td>...</td>\n",
              "      <td>3.75</td>\n",
              "      <td>0.65</td>\n",
              "      <td>8.18</td>\n",
              "      <td>0.70</td>\n",
              "      <td>0</td>\n",
              "      <td>0</td>\n",
              "      <td>60</td>\n",
              "      <td>2.9</td>\n",
              "      <td>3.3</td>\n",
              "      <td>0.638</td>\n",
              "    </tr>\n",
              "    <tr>\n",
              "      <th>77</th>\n",
              "      <td>Miss Fortune</td>\n",
              "      <td>the Bounty Hunter</td>\n",
              "      <td>[Marksman]</td>\n",
              "      <td>8</td>\n",
              "      <td>2</td>\n",
              "      <td>5</td>\n",
              "      <td>1</td>\n",
              "      <td>640</td>\n",
              "      <td>103</td>\n",
              "      <td>300.00</td>\n",
              "      <td>...</td>\n",
              "      <td>3.75</td>\n",
              "      <td>0.65</td>\n",
              "      <td>8.05</td>\n",
              "      <td>0.65</td>\n",
              "      <td>0</td>\n",
              "      <td>0</td>\n",
              "      <td>52</td>\n",
              "      <td>2.4</td>\n",
              "      <td>3.0</td>\n",
              "      <td>0.656</td>\n",
              "    </tr>\n",
              "    <tr>\n",
              "      <th>107</th>\n",
              "      <td>Samira</td>\n",
              "      <td>the Desert Rose</td>\n",
              "      <td>[Marksman]</td>\n",
              "      <td>8</td>\n",
              "      <td>5</td>\n",
              "      <td>3</td>\n",
              "      <td>6</td>\n",
              "      <td>600</td>\n",
              "      <td>108</td>\n",
              "      <td>349.00</td>\n",
              "      <td>...</td>\n",
              "      <td>3.25</td>\n",
              "      <td>0.55</td>\n",
              "      <td>8.20</td>\n",
              "      <td>0.70</td>\n",
              "      <td>0</td>\n",
              "      <td>0</td>\n",
              "      <td>57</td>\n",
              "      <td>3.3</td>\n",
              "      <td>3.3</td>\n",
              "      <td>0.658</td>\n",
              "    </tr>\n",
              "    <tr>\n",
              "      <th>117</th>\n",
              "      <td>Sivir</td>\n",
              "      <td>the Battle Mistress</td>\n",
              "      <td>[Marksman]</td>\n",
              "      <td>9</td>\n",
              "      <td>3</td>\n",
              "      <td>1</td>\n",
              "      <td>4</td>\n",
              "      <td>600</td>\n",
              "      <td>104</td>\n",
              "      <td>340.00</td>\n",
              "      <td>...</td>\n",
              "      <td>3.25</td>\n",
              "      <td>0.55</td>\n",
              "      <td>6.00</td>\n",
              "      <td>0.80</td>\n",
              "      <td>0</td>\n",
              "      <td>0</td>\n",
              "      <td>58</td>\n",
              "      <td>2.8</td>\n",
              "      <td>2.0</td>\n",
              "      <td>0.625</td>\n",
              "    </tr>\n",
              "    <tr>\n",
              "      <th>148</th>\n",
              "      <td>Xayah</td>\n",
              "      <td>the Rebel</td>\n",
              "      <td>[Marksman]</td>\n",
              "      <td>10</td>\n",
              "      <td>6</td>\n",
              "      <td>1</td>\n",
              "      <td>5</td>\n",
              "      <td>660</td>\n",
              "      <td>102</td>\n",
              "      <td>340.00</td>\n",
              "      <td>...</td>\n",
              "      <td>3.25</td>\n",
              "      <td>0.75</td>\n",
              "      <td>8.25</td>\n",
              "      <td>0.75</td>\n",
              "      <td>0</td>\n",
              "      <td>0</td>\n",
              "      <td>60</td>\n",
              "      <td>3.5</td>\n",
              "      <td>3.9</td>\n",
              "      <td>0.625</td>\n",
              "    </tr>\n",
              "    <tr>\n",
              "      <th>157</th>\n",
              "      <td>Zeri</td>\n",
              "      <td>The Spark of Zaun</td>\n",
              "      <td>[Marksman]</td>\n",
              "      <td>8</td>\n",
              "      <td>5</td>\n",
              "      <td>3</td>\n",
              "      <td>6</td>\n",
              "      <td>630</td>\n",
              "      <td>115</td>\n",
              "      <td>250.00</td>\n",
              "      <td>...</td>\n",
              "      <td>3.25</td>\n",
              "      <td>0.70</td>\n",
              "      <td>6.00</td>\n",
              "      <td>0.80</td>\n",
              "      <td>0</td>\n",
              "      <td>0</td>\n",
              "      <td>53</td>\n",
              "      <td>1.5</td>\n",
              "      <td>2.0</td>\n",
              "      <td>0.658</td>\n",
              "    </tr>\n",
              "  </tbody>\n",
              "</table>\n",
              "<p>15 rows × 27 columns</p>\n",
              "</div>\n",
              "      <button class=\"colab-df-convert\" onclick=\"convertToInteractive('df-0a6b9fba-7740-4886-83b3-adb5814d7844')\"\n",
              "              title=\"Convert this dataframe to an interactive table.\"\n",
              "              style=\"display:none;\">\n",
              "        \n",
              "  <svg xmlns=\"http://www.w3.org/2000/svg\" height=\"24px\"viewBox=\"0 0 24 24\"\n",
              "       width=\"24px\">\n",
              "    <path d=\"M0 0h24v24H0V0z\" fill=\"none\"/>\n",
              "    <path d=\"M18.56 5.44l.94 2.06.94-2.06 2.06-.94-2.06-.94-.94-2.06-.94 2.06-2.06.94zm-11 1L8.5 8.5l.94-2.06 2.06-.94-2.06-.94L8.5 2.5l-.94 2.06-2.06.94zm10 10l.94 2.06.94-2.06 2.06-.94-2.06-.94-.94-2.06-.94 2.06-2.06.94z\"/><path d=\"M17.41 7.96l-1.37-1.37c-.4-.4-.92-.59-1.43-.59-.52 0-1.04.2-1.43.59L10.3 9.45l-7.72 7.72c-.78.78-.78 2.05 0 2.83L4 21.41c.39.39.9.59 1.41.59.51 0 1.02-.2 1.41-.59l7.78-7.78 2.81-2.81c.8-.78.8-2.07 0-2.86zM5.41 20L4 18.59l7.72-7.72 1.47 1.35L5.41 20z\"/>\n",
              "  </svg>\n",
              "      </button>\n",
              "      \n",
              "  <style>\n",
              "    .colab-df-container {\n",
              "      display:flex;\n",
              "      flex-wrap:wrap;\n",
              "      gap: 12px;\n",
              "    }\n",
              "\n",
              "    .colab-df-convert {\n",
              "      background-color: #E8F0FE;\n",
              "      border: none;\n",
              "      border-radius: 50%;\n",
              "      cursor: pointer;\n",
              "      display: none;\n",
              "      fill: #1967D2;\n",
              "      height: 32px;\n",
              "      padding: 0 0 0 0;\n",
              "      width: 32px;\n",
              "    }\n",
              "\n",
              "    .colab-df-convert:hover {\n",
              "      background-color: #E2EBFA;\n",
              "      box-shadow: 0px 1px 2px rgba(60, 64, 67, 0.3), 0px 1px 3px 1px rgba(60, 64, 67, 0.15);\n",
              "      fill: #174EA6;\n",
              "    }\n",
              "\n",
              "    [theme=dark] .colab-df-convert {\n",
              "      background-color: #3B4455;\n",
              "      fill: #D2E3FC;\n",
              "    }\n",
              "\n",
              "    [theme=dark] .colab-df-convert:hover {\n",
              "      background-color: #434B5C;\n",
              "      box-shadow: 0px 1px 3px 1px rgba(0, 0, 0, 0.15);\n",
              "      filter: drop-shadow(0px 1px 2px rgba(0, 0, 0, 0.3));\n",
              "      fill: #FFFFFF;\n",
              "    }\n",
              "  </style>\n",
              "\n",
              "      <script>\n",
              "        const buttonEl =\n",
              "          document.querySelector('#df-0a6b9fba-7740-4886-83b3-adb5814d7844 button.colab-df-convert');\n",
              "        buttonEl.style.display =\n",
              "          google.colab.kernel.accessAllowed ? 'block' : 'none';\n",
              "\n",
              "        async function convertToInteractive(key) {\n",
              "          const element = document.querySelector('#df-0a6b9fba-7740-4886-83b3-adb5814d7844');\n",
              "          const dataTable =\n",
              "            await google.colab.kernel.invokeFunction('convertToInteractive',\n",
              "                                                     [key], {});\n",
              "          if (!dataTable) return;\n",
              "\n",
              "          const docLinkHtml = 'Like what you see? Visit the ' +\n",
              "            '<a target=\"_blank\" href=https://colab.research.google.com/notebooks/data_table.ipynb>data table notebook</a>'\n",
              "            + ' to learn more about interactive tables.';\n",
              "          element.innerHTML = '';\n",
              "          dataTable['output_type'] = 'display_data';\n",
              "          await google.colab.output.renderOutput(dataTable, element);\n",
              "          const docLink = document.createElement('div');\n",
              "          docLink.innerHTML = docLinkHtml;\n",
              "          element.appendChild(docLink);\n",
              "        }\n",
              "      </script>\n",
              "    </div>\n",
              "  </div>\n",
              "  "
            ]
          },
          "metadata": {},
          "execution_count": 30
        }
      ]
    },
    {
      "cell_type": "markdown",
      "source": [
        "Having the dataframe created with the pandas, we will again use the **spark** so we can manage our dataframe better."
      ],
      "metadata": {
        "id": "U_MnndSF_Mb3"
      }
    },
    {
      "cell_type": "code",
      "source": [
        "df = spark.createDataFrame(dff)"
      ],
      "metadata": {
        "id": "i_SHr0lk_NPf"
      },
      "execution_count": 31,
      "outputs": []
    },
    {
      "cell_type": "markdown",
      "source": [
        "# **Concatenating columns**\n",
        "\n",
        "With our spark dataframe created, we will concatenate some colums, so we have an more specific full name of each champion, and add to the dataframe with the other columns so we can do the analysis."
      ],
      "metadata": {
        "id": "hAROWatV_Riu"
      }
    },
    {
      "cell_type": "code",
      "source": [
        "df = df.withColumn(\"full_name\", F.concat(df.name, F.lit(\", \"), df.title))\n",
        "df.select(\"full_name\").show()"
      ],
      "metadata": {
        "colab": {
          "base_uri": "https://localhost:8080/"
        },
        "id": "8hJ-7GUA_R3u",
        "outputId": "02ea2365-83ce-4660-a390-81e4641c6128"
      },
      "execution_count": 32,
      "outputs": [
        {
          "output_type": "stream",
          "name": "stdout",
          "text": [
            "+--------------------+\n",
            "|           full_name|\n",
            "+--------------------+\n",
            "|Aphelios, the Wea...|\n",
            "|Caitlyn, the Sher...|\n",
            "|Corki, the Daring...|\n",
            "|Draven, the Glori...|\n",
            "|  Graves, the Outlaw|\n",
            "|Jinx, the Loose C...|\n",
            "|Kai'Sa, Daughter ...|\n",
            "|Kalista, the Spea...|\n",
            "|Kindred, The Eter...|\n",
            "|Lucian, the Purifier|\n",
            "|Miss Fortune, the...|\n",
            "|Samira, the Deser...|\n",
            "|Sivir, the Battle...|\n",
            "|    Xayah, the Rebel|\n",
            "|Zeri, The Spark o...|\n",
            "+--------------------+\n",
            "\n"
          ]
        }
      ]
    },
    {
      "cell_type": "code",
      "source": [
        "base_columns = [\"attackdamage\", \"armor\", \"hp\", \"mp\"]\n",
        "\n",
        "(df.orderBy(*base_columns, ascending=False)\n",
        " .select(\"full_name\", *base_columns)\n",
        " .show()\n",
        " )"
      ],
      "metadata": {
        "colab": {
          "base_uri": "https://localhost:8080/"
        },
        "id": "Bj6EhFGo_WDn",
        "outputId": "27b1bcda-3ef3-4bd0-e250-928f7d8929ad"
      },
      "execution_count": 33,
      "outputs": [
        {
          "output_type": "stream",
          "name": "stdout",
          "text": [
            "+--------------------+------------+-----+---+------+\n",
            "|           full_name|attackdamage|armor| hp|    mp|\n",
            "+--------------------+------------+-----+---+------+\n",
            "|  Graves, the Outlaw|          68|   33|625| 325.0|\n",
            "|Kalista, the Spea...|          66|   24|574| 300.0|\n",
            "|Kindred, The Eter...|          65|   29|610| 300.0|\n",
            "|Draven, the Glori...|          62|   29|675| 361.0|\n",
            "|Caitlyn, the Sher...|          62|   28|580| 315.0|\n",
            "|Lucian, the Purifier|          60|   28|641| 349.0|\n",
            "|    Xayah, the Rebel|          60|   25|660| 340.0|\n",
            "|Kai'Sa, Daughter ...|          59|   28|670|344.88|\n",
            "|Jinx, the Loose C...|          59|   26|630| 245.0|\n",
            "|Sivir, the Battle...|          58|   26|600| 340.0|\n",
            "|Samira, the Deser...|          57|   26|600| 349.0|\n",
            "|Corki, the Daring...|          55|   28|588| 350.0|\n",
            "|Aphelios, the Wea...|          55|   26|580| 348.0|\n",
            "|Zeri, The Spark o...|          53|   24|630| 250.0|\n",
            "|Miss Fortune, the...|          52|   28|640| 300.0|\n",
            "+--------------------+------------+-----+---+------+\n",
            "\n"
          ]
        }
      ]
    },
    {
      "cell_type": "markdown",
      "source": [
        "# **ANALYZING THE DATA**\n",
        "\n",
        "For the analysis, we will look into three different scenarios.<br>\n",
        "Anyone who's played League of Legends for a while has noticed that there are champions that are stronger or weaker based on how much time has passed. \n",
        "To better understand this, we will place the marksman in the three most common scenarios, which are the beginning, middle and end of the match.<br> In a typical League of Legends game, characters start at level 1 and go up to a maximum level of 18. Dividing it into three scenarios, we will use level 1 for the beginning of the game, level 10 for the middle of the game and finally level 18 for the end of the game. <br>\n",
        "With this, we will be able to understand a little better the strength of each champion during the match based on the basic strength data of each one.\n"
      ],
      "metadata": {
        "id": "4hc6jOvI_9-p"
      }
    },
    {
      "cell_type": "markdown",
      "source": [
        "**FIRST SCENARIO**<br>\n",
        "Early Game:<br>\n",
        "level = 1"
      ],
      "metadata": {
        "id": "6nGJ_R9n__9v"
      }
    },
    {
      "cell_type": "code",
      "source": [
        "level = 1\n",
        "\n",
        "df2 = df.withColumns({\n",
        "    \"attackdamage\": df.attackdamage+df.attackdamageperlevel*level,\n",
        "    \"armor\": df.armor+df.armorperlevel*level,\n",
        "    \"hp\": df.hp+df.hpperlevel*level,\n",
        "    \"mp\": df.mp+df.mpperlevel*level\n",
        "})"
      ],
      "metadata": {
        "id": "hJXIlP3NAAVm"
      },
      "execution_count": 34,
      "outputs": []
    },
    {
      "cell_type": "code",
      "source": [
        "(df2.orderBy(*base_columns, ascending=False)\n",
        " .select(\"full_name\", *base_columns)\n",
        " .show()\n",
        " )"
      ],
      "metadata": {
        "colab": {
          "base_uri": "https://localhost:8080/"
        },
        "id": "AgIAfKiXAC8v",
        "outputId": "176bcef1-db0f-48c0-988f-d9910b03da63"
      },
      "execution_count": 35,
      "outputs": [
        {
          "output_type": "stream",
          "name": "stdout",
          "text": [
            "+--------------------+------------+-----+---+------+\n",
            "|           full_name|attackdamage|armor| hp|    mp|\n",
            "+--------------------+------------+-----+---+------+\n",
            "|  Graves, the Outlaw|        72.0| 37.6|731| 365.0|\n",
            "|Kalista, the Spea...|        69.5| 29.2|688| 345.0|\n",
            "|Kindred, The Eter...|        67.5| 33.7|709| 335.0|\n",
            "|Caitlyn, the Sher...|        65.8| 32.7|687| 350.0|\n",
            "|Draven, the Glori...|        65.6| 33.5|779| 400.0|\n",
            "|    Xayah, the Rebel|        63.5| 29.2|762| 380.0|\n",
            "|Lucian, the Purifier|        62.9| 32.2|741| 387.0|\n",
            "|Jinx, the Loose C...|        62.4| 30.7|730| 290.0|\n",
            "|Kai'Sa, Daughter ...|        61.0| 32.2|772|382.88|\n",
            "|Sivir, the Battle...|        60.8|30.45|704| 380.0|\n",
            "|Samira, the Deser...|        60.3| 30.7|708| 387.0|\n",
            "|Aphelios, the Wea...|        58.0| 30.2|682| 390.0|\n",
            "|Corki, the Daring...|        57.8| 32.7|693| 404.0|\n",
            "|Zeri, The Spark o...|        54.5| 28.2|745| 295.0|\n",
            "|Miss Fortune, the...|        54.4| 32.2|743| 335.0|\n",
            "+--------------------+------------+-----+---+------+\n",
            "\n"
          ]
        }
      ]
    },
    {
      "cell_type": "markdown",
      "source": [
        "***Some power stats at this current stage of the game.***<br>\n",
        "We will determine the **maximum** attack damage and armor, the **minimum** hp and the **average** mp.<br>\n",
        "\n",
        "For that we will use the ***agg*** method. This method receives a dictionary as a parameter, where the keys are the names of the columns we want to analyze and the values are the functions we want to apply to them."
      ],
      "metadata": {
        "id": "wWGOEAQiAHut"
      }
    },
    {
      "cell_type": "code",
      "source": [
        "(df2.agg({\n",
        "    \"attackdamage\": \"max\",\n",
        "    \"hp\": \"min\",\n",
        "    \"mp\": \"mean\",\n",
        "    \"armor\": \"max\"\n",
        "})\n",
        "    .show()\n",
        ")"
      ],
      "metadata": {
        "colab": {
          "base_uri": "https://localhost:8080/"
        },
        "id": "ElyY2McCAIQ_",
        "outputId": "d2fa9a7c-fffe-4231-f441-d37eb05ae502"
      },
      "execution_count": 36,
      "outputs": [
        {
          "output_type": "stream",
          "name": "stdout",
          "text": [
            "+------------------+----------+-----------------+-------+\n",
            "|           avg(mp)|max(armor)|max(attackdamage)|min(hp)|\n",
            "+------------------+----------+-----------------+-------+\n",
            "|361.72533333333337|      37.6|             72.0|    682|\n",
            "+------------------+----------+-----------------+-------+\n",
            "\n"
          ]
        }
      ]
    },
    {
      "cell_type": "markdown",
      "source": [
        "**SECOND SCENARIO**<br>\n",
        "Mid Game:<br>\n",
        "level = 10"
      ],
      "metadata": {
        "id": "OpUjlQgPAROK"
      }
    },
    {
      "cell_type": "code",
      "source": [
        "level = 10\n",
        "\n",
        "df3 = df.withColumns({\n",
        "    \"attackdamage\": df.attackdamage+df.attackdamageperlevel*level,\n",
        "    \"armor\": df.armor+df.armorperlevel*level,\n",
        "    \"hp\": df.hp+df.hpperlevel*level,\n",
        "    \"mp\": df.mp+df.mpperlevel*level\n",
        "})"
      ],
      "metadata": {
        "id": "iAaLHg3oARew"
      },
      "execution_count": 37,
      "outputs": []
    },
    {
      "cell_type": "code",
      "source": [
        "(df3.orderBy(*base_columns, ascending=False)\n",
        " .select(\"full_name\", *base_columns)\n",
        " .show()\n",
        " )"
      ],
      "metadata": {
        "colab": {
          "base_uri": "https://localhost:8080/"
        },
        "id": "RqQDlpIoASjP",
        "outputId": "8e8221fe-477d-4c70-dca4-c654864cf34e"
      },
      "execution_count": 38,
      "outputs": [
        {
          "output_type": "stream",
          "name": "stdout",
          "text": [
            "+--------------------+------------+-----+----+------+\n",
            "|           full_name|attackdamage|armor|  hp|    mp|\n",
            "+--------------------+------------+-----+----+------+\n",
            "|  Graves, the Outlaw|       108.0| 79.0|1685| 725.0|\n",
            "|Kalista, the Spea...|       101.0| 76.0|1714| 750.0|\n",
            "|Caitlyn, the Sher...|       100.0| 75.0|1650| 665.0|\n",
            "|Draven, the Glori...|        98.0| 74.0|1715| 751.0|\n",
            "|    Xayah, the Rebel|        95.0| 67.0|1680| 740.0|\n",
            "|Jinx, the Loose C...|        93.0| 73.0|1630| 695.0|\n",
            "|Kindred, The Eter...|        90.0| 76.0|1600| 650.0|\n",
            "|Samira, the Deser...|        90.0| 73.0|1680| 729.0|\n",
            "|Lucian, the Purifier|        89.0| 70.0|1641| 729.0|\n",
            "|Sivir, the Battle...|        86.0| 70.5|1640| 740.0|\n",
            "|Aphelios, the Wea...|        85.0| 68.0|1600| 768.0|\n",
            "|Corki, the Daring...|        83.0| 75.0|1638| 890.0|\n",
            "|Kai'Sa, Daughter ...|        79.0| 70.0|1690|724.88|\n",
            "|Miss Fortune, the...|        76.0| 70.0|1670| 650.0|\n",
            "|Zeri, The Spark o...|        68.0| 66.0|1780| 700.0|\n",
            "+--------------------+------------+-----+----+------+\n",
            "\n"
          ]
        }
      ]
    },
    {
      "cell_type": "markdown",
      "source": [
        "***Some power stats at this current stage of the game.***<br>\n",
        "We will determine the **maximum** attack damage and armor, the **minimum** hp and the **average** mp, using ***agg*** method again."
      ],
      "metadata": {
        "id": "idrVFR9HAe3f"
      }
    },
    {
      "cell_type": "code",
      "source": [
        "(df3.agg({\n",
        "    \"attackdamage\": \"max\",\n",
        "    \"hp\": \"min\",\n",
        "    \"mp\": \"mean\",\n",
        "    \"armor\": \"max\"\n",
        "})\n",
        "    .show()\n",
        ")"
      ],
      "metadata": {
        "colab": {
          "base_uri": "https://localhost:8080/"
        },
        "id": "2BtDkqetAfR_",
        "outputId": "51ce68d4-0723-4271-e8bb-7d236668c7dc"
      },
      "execution_count": 39,
      "outputs": [
        {
          "output_type": "stream",
          "name": "stdout",
          "text": [
            "+-----------------+----------+-----------------+-------+\n",
            "|          avg(mp)|max(armor)|max(attackdamage)|min(hp)|\n",
            "+-----------------+----------+-----------------+-------+\n",
            "|727.1253333333334|      79.0|            108.0|   1600|\n",
            "+-----------------+----------+-----------------+-------+\n",
            "\n"
          ]
        }
      ]
    },
    {
      "cell_type": "markdown",
      "source": [
        "**THIRD SCENARIO**<br>\n",
        "Late Game:<br>\n",
        "level = 18"
      ],
      "metadata": {
        "id": "-9R8ThXjAiI9"
      }
    },
    {
      "cell_type": "code",
      "source": [
        "level = 18\n",
        "\n",
        "df4 = df.withColumns({\n",
        "    \"attackdamage\": df.attackdamage+df.attackdamageperlevel*level,\n",
        "    \"armor\": df.armor+df.armorperlevel*level,\n",
        "    \"hp\": df.hp+df.hpperlevel*level,\n",
        "    \"mp\": df.mp+df.mpperlevel*level\n",
        "})"
      ],
      "metadata": {
        "id": "5HstciH1AiY-"
      },
      "execution_count": 40,
      "outputs": []
    },
    {
      "cell_type": "code",
      "source": [
        "(df4.orderBy(*base_columns, ascending=False)\n",
        " .select(\"full_name\", *base_columns)\n",
        " .show()\n",
        " )"
      ],
      "metadata": {
        "colab": {
          "base_uri": "https://localhost:8080/"
        },
        "id": "bKo-16AfAjem",
        "outputId": "d4c6907e-4056-4908-97d7-26133a1f350e"
      },
      "execution_count": 41,
      "outputs": [
        {
          "output_type": "stream",
          "name": "stdout",
          "text": [
            "+--------------------+------------------+------------------+----+-------+\n",
            "|           full_name|      attackdamage|             armor|  hp|     mp|\n",
            "+--------------------+------------------+------------------+----+-------+\n",
            "|  Graves, the Outlaw|             140.0|             115.8|2533| 1045.0|\n",
            "|Caitlyn, the Sher...|130.39999999999998|112.60000000000001|2506|  945.0|\n",
            "|Kalista, the Spea...|             129.0|117.60000000000001|2626| 1110.0|\n",
            "|Draven, the Glori...|             126.8|             110.0|2547| 1063.0|\n",
            "|    Xayah, the Rebel|             123.0|100.60000000000001|2496| 1060.0|\n",
            "|Jinx, the Loose C...|120.19999999999999|110.60000000000001|2430| 1055.0|\n",
            "|Samira, the Deser...|             116.4|110.60000000000001|2544| 1033.0|\n",
            "|Lucian, the Purifier|112.19999999999999|103.60000000000001|2441| 1033.0|\n",
            "|Kindred, The Eter...|             110.0|113.60000000000001|2392|  930.0|\n",
            "|Aphelios, the Wea...|             109.0|101.60000000000001|2416| 1104.0|\n",
            "|Sivir, the Battle...|             108.4|106.10000000000001|2472| 1060.0|\n",
            "|Corki, the Daring...|             105.4|112.60000000000001|2478| 1322.0|\n",
            "|Miss Fortune, the...| 95.19999999999999|103.60000000000001|2494|  930.0|\n",
            "|Kai'Sa, Daughter ...|              95.0|103.60000000000001|2506|1028.88|\n",
            "|Zeri, The Spark o...|              80.0| 99.60000000000001|2700| 1060.0|\n",
            "+--------------------+------------------+------------------+----+-------+\n",
            "\n"
          ]
        }
      ]
    },
    {
      "cell_type": "markdown",
      "source": [
        "***Some power stats at this current stage of the game.***<br>\n",
        "We will determine the **maximum** attack damage and armor, the **minimum** hp and the **average** mp, using ***agg*** method again."
      ],
      "metadata": {
        "id": "vPkC82e0AmRl"
      }
    },
    {
      "cell_type": "code",
      "source": [
        "(df4.agg({\n",
        "    \"attackdamage\": \"max\",\n",
        "    \"hp\": \"min\",\n",
        "    \"mp\": \"mean\",\n",
        "    \"armor\": \"max\"\n",
        "})\n",
        "    .show()\n",
        ")"
      ],
      "metadata": {
        "colab": {
          "base_uri": "https://localhost:8080/"
        },
        "id": "0YjsHGqiAmrv",
        "outputId": "655b2b5a-00e8-4488-f07d-586e97615c7a"
      },
      "execution_count": 42,
      "outputs": [
        {
          "output_type": "stream",
          "name": "stdout",
          "text": [
            "+------------------+------------------+-----------------+-------+\n",
            "|           avg(mp)|        max(armor)|max(attackdamage)|min(hp)|\n",
            "+------------------+------------------+-----------------+-------+\n",
            "|1051.9253333333334|117.60000000000001|            140.0|   2392|\n",
            "+------------------+------------------+-----------------+-------+\n",
            "\n"
          ]
        }
      ]
    },
    {
      "cell_type": "markdown",
      "source": [
        "# **Last but not least**\n",
        "\n",
        "So that's it for this analysis.\n",
        "Here we could see the differences between the marksman champions during the game,<br> and understand why some are **OVERPOWERED** in the early/mid game, and others need to wait more time to help the team.\n",
        "\n",
        "Hope you liked it, and see you next time! ♥"
      ],
      "metadata": {
        "id": "dGqEDvq8DCm-"
      }
    }
  ]
}
